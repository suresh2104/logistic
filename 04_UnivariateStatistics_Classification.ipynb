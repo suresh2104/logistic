{
 "cells": [
  {
   "cell_type": "markdown",
   "metadata": {},
   "source": [
    "## Feature Selection for Classification using univariate statistics\n",
    "* Use Anova and chi2 to select relevant features for building a classification model"
   ]
  },
  {
   "cell_type": "code",
   "execution_count": 53,
   "metadata": {},
   "outputs": [],
   "source": [
    "import pandas as pd\n",
    "import numpy as np\n",
    "import pylab\n",
    "import matplotlib.pyplot as plt\n",
    "\n",
    "from sklearn.metrics import accuracy_score\n",
    "from sklearn.metrics import precision_score\n",
    "from sklearn.metrics import recall_score\n",
    "\n",
    "from sklearn.linear_model import LogisticRegression\n",
    "from sklearn.model_selection import train_test_split"
   ]
  },
  {
   "cell_type": "code",
   "execution_count": 54,
   "metadata": {},
   "outputs": [],
   "source": [
    "diabetes_df = pd.read_csv('datasets/diabetes.csv')"
   ]
  },
  {
   "cell_type": "code",
   "execution_count": 55,
   "metadata": {},
   "outputs": [
    {
     "data": {
      "text/html": [
       "<div>\n",
       "<style scoped>\n",
       "    .dataframe tbody tr th:only-of-type {\n",
       "        vertical-align: middle;\n",
       "    }\n",
       "\n",
       "    .dataframe tbody tr th {\n",
       "        vertical-align: top;\n",
       "    }\n",
       "\n",
       "    .dataframe thead th {\n",
       "        text-align: right;\n",
       "    }\n",
       "</style>\n",
       "<table border=\"1\" class=\"dataframe\">\n",
       "  <thead>\n",
       "    <tr style=\"text-align: right;\">\n",
       "      <th></th>\n",
       "      <th>Pregnancies</th>\n",
       "      <th>Glucose</th>\n",
       "      <th>BP</th>\n",
       "      <th>Skin Thickness</th>\n",
       "      <th>Insulin</th>\n",
       "      <th>Mass</th>\n",
       "      <th>Pedigree</th>\n",
       "      <th>Age</th>\n",
       "      <th>class</th>\n",
       "    </tr>\n",
       "  </thead>\n",
       "  <tbody>\n",
       "    <tr>\n",
       "      <th>0</th>\n",
       "      <td>6</td>\n",
       "      <td>148</td>\n",
       "      <td>72</td>\n",
       "      <td>35</td>\n",
       "      <td>0</td>\n",
       "      <td>33.6</td>\n",
       "      <td>0.627</td>\n",
       "      <td>50</td>\n",
       "      <td>1</td>\n",
       "    </tr>\n",
       "    <tr>\n",
       "      <th>1</th>\n",
       "      <td>1</td>\n",
       "      <td>85</td>\n",
       "      <td>66</td>\n",
       "      <td>29</td>\n",
       "      <td>0</td>\n",
       "      <td>26.6</td>\n",
       "      <td>0.351</td>\n",
       "      <td>31</td>\n",
       "      <td>0</td>\n",
       "    </tr>\n",
       "    <tr>\n",
       "      <th>2</th>\n",
       "      <td>8</td>\n",
       "      <td>183</td>\n",
       "      <td>64</td>\n",
       "      <td>0</td>\n",
       "      <td>0</td>\n",
       "      <td>23.3</td>\n",
       "      <td>0.672</td>\n",
       "      <td>32</td>\n",
       "      <td>1</td>\n",
       "    </tr>\n",
       "    <tr>\n",
       "      <th>3</th>\n",
       "      <td>1</td>\n",
       "      <td>89</td>\n",
       "      <td>66</td>\n",
       "      <td>23</td>\n",
       "      <td>94</td>\n",
       "      <td>28.1</td>\n",
       "      <td>0.167</td>\n",
       "      <td>21</td>\n",
       "      <td>0</td>\n",
       "    </tr>\n",
       "    <tr>\n",
       "      <th>4</th>\n",
       "      <td>0</td>\n",
       "      <td>137</td>\n",
       "      <td>40</td>\n",
       "      <td>35</td>\n",
       "      <td>168</td>\n",
       "      <td>43.1</td>\n",
       "      <td>2.288</td>\n",
       "      <td>33</td>\n",
       "      <td>1</td>\n",
       "    </tr>\n",
       "  </tbody>\n",
       "</table>\n",
       "</div>"
      ],
      "text/plain": [
       "   Pregnancies  Glucose  BP  Skin Thickness  Insulin  Mass  Pedigree  Age  \\\n",
       "0            6      148  72              35        0  33.6     0.627   50   \n",
       "1            1       85  66              29        0  26.6     0.351   31   \n",
       "2            8      183  64               0        0  23.3     0.672   32   \n",
       "3            1       89  66              23       94  28.1     0.167   21   \n",
       "4            0      137  40              35      168  43.1     2.288   33   \n",
       "\n",
       "   class  \n",
       "0      1  \n",
       "1      0  \n",
       "2      1  \n",
       "3      0  \n",
       "4      1  "
      ]
     },
     "execution_count": 55,
     "metadata": {},
     "output_type": "execute_result"
    }
   ],
   "source": [
    "diabetes_df.head()"
   ]
  },
  {
   "cell_type": "code",
   "execution_count": 56,
   "metadata": {},
   "outputs": [],
   "source": [
    "X = diabetes_df.drop('class', axis = 1)\n",
    "\n",
    "y = diabetes_df['class']"
   ]
  },
  {
   "cell_type": "code",
   "execution_count": 57,
   "metadata": {},
   "outputs": [
    {
     "data": {
      "text/plain": [
       "(768, 8)"
      ]
     },
     "execution_count": 57,
     "metadata": {},
     "output_type": "execute_result"
    }
   ],
   "source": [
    "X.shape"
   ]
  },
  {
   "cell_type": "code",
   "execution_count": 58,
   "metadata": {},
   "outputs": [],
   "source": [
    "X = X.astype(np.float64)"
   ]
  },
  {
   "cell_type": "code",
   "execution_count": 59,
   "metadata": {},
   "outputs": [],
   "source": [
    "from sklearn.feature_selection import chi2, SelectKBest\n",
    "\n",
    "select_features = SelectKBest(chi2, k=3)\n",
    "\n",
    "X_new = select_features.fit_transform(X, y)"
   ]
  },
  {
   "cell_type": "code",
   "execution_count": 60,
   "metadata": {},
   "outputs": [
    {
     "data": {
      "text/plain": [
       "(768, 3)"
      ]
     },
     "execution_count": 60,
     "metadata": {},
     "output_type": "execute_result"
    }
   ],
   "source": [
    "X_new.shape"
   ]
  },
  {
   "cell_type": "code",
   "execution_count": 61,
   "metadata": {},
   "outputs": [],
   "source": [
    "X_new = X_new.astype(np.float64)"
   ]
  },
  {
   "cell_type": "code",
   "execution_count": 62,
   "metadata": {},
   "outputs": [
    {
     "data": {
      "text/html": [
       "<div>\n",
       "<style scoped>\n",
       "    .dataframe tbody tr th:only-of-type {\n",
       "        vertical-align: middle;\n",
       "    }\n",
       "\n",
       "    .dataframe tbody tr th {\n",
       "        vertical-align: top;\n",
       "    }\n",
       "\n",
       "    .dataframe thead th {\n",
       "        text-align: right;\n",
       "    }\n",
       "</style>\n",
       "<table border=\"1\" class=\"dataframe\">\n",
       "  <thead>\n",
       "    <tr style=\"text-align: right;\">\n",
       "      <th></th>\n",
       "      <th>0</th>\n",
       "      <th>1</th>\n",
       "      <th>2</th>\n",
       "    </tr>\n",
       "  </thead>\n",
       "  <tbody>\n",
       "    <tr>\n",
       "      <th>0</th>\n",
       "      <td>148.0</td>\n",
       "      <td>0.0</td>\n",
       "      <td>50.0</td>\n",
       "    </tr>\n",
       "    <tr>\n",
       "      <th>1</th>\n",
       "      <td>85.0</td>\n",
       "      <td>0.0</td>\n",
       "      <td>31.0</td>\n",
       "    </tr>\n",
       "    <tr>\n",
       "      <th>2</th>\n",
       "      <td>183.0</td>\n",
       "      <td>0.0</td>\n",
       "      <td>32.0</td>\n",
       "    </tr>\n",
       "    <tr>\n",
       "      <th>3</th>\n",
       "      <td>89.0</td>\n",
       "      <td>94.0</td>\n",
       "      <td>21.0</td>\n",
       "    </tr>\n",
       "    <tr>\n",
       "      <th>4</th>\n",
       "      <td>137.0</td>\n",
       "      <td>168.0</td>\n",
       "      <td>33.0</td>\n",
       "    </tr>\n",
       "  </tbody>\n",
       "</table>\n",
       "</div>"
      ],
      "text/plain": [
       "       0      1     2\n",
       "0  148.0    0.0  50.0\n",
       "1   85.0    0.0  31.0\n",
       "2  183.0    0.0  32.0\n",
       "3   89.0   94.0  21.0\n",
       "4  137.0  168.0  33.0"
      ]
     },
     "execution_count": 62,
     "metadata": {},
     "output_type": "execute_result"
    }
   ],
   "source": [
    "X_new = pd.DataFrame(X_new)\n",
    "\n",
    "X_new.head()"
   ]
  },
  {
   "cell_type": "code",
   "execution_count": 63,
   "metadata": {},
   "outputs": [
    {
     "data": {
      "text/plain": [
       "['Glucose', 'Insulin', 'Age']"
      ]
     },
     "execution_count": 63,
     "metadata": {},
     "output_type": "execute_result"
    }
   ],
   "source": [
    "selected_features = []\n",
    "\n",
    "for i in range(len(X_new.columns)):\n",
    "    for j in range(len(X.columns)):\n",
    "        \n",
    "        if(X_new.iloc[:,i].equals(X.iloc[:,j])):\n",
    "            selected_features.append(X.columns[j])\n",
    "            \n",
    "selected_features"
   ]
  },
  {
   "cell_type": "code",
   "execution_count": 64,
   "metadata": {},
   "outputs": [
    {
     "data": {
      "text/plain": [
       "{'BP', 'Mass', 'Pedigree', 'Pregnancies', 'Skin Thickness'}"
      ]
     },
     "execution_count": 64,
     "metadata": {},
     "output_type": "execute_result"
    }
   ],
   "source": [
    "rejected_features = set(list(X)) - set(selected_features)\n",
    "\n",
    "rejected_features"
   ]
  },
  {
   "cell_type": "code",
   "execution_count": 65,
   "metadata": {},
   "outputs": [
    {
     "data": {
      "text/plain": [
       "['Pregnancies',\n",
       " 'Glucose',\n",
       " 'BP',\n",
       " 'Skin Thickness',\n",
       " 'Insulin',\n",
       " 'Mass',\n",
       " 'Pedigree',\n",
       " 'Age']"
      ]
     },
     "execution_count": 65,
     "metadata": {},
     "output_type": "execute_result"
    }
   ],
   "source": [
    "FEATURES = list(diabetes_df.columns[:-1])\n",
    "\n",
    "FEATURES"
   ]
  },
  {
   "cell_type": "code",
   "execution_count": 71,
   "metadata": {},
   "outputs": [],
   "source": [
    "def build_model(target, \n",
    "                features, \n",
    "                dataset,\n",
    "                preprocess_fn,\n",
    "                *hyperparameters):\n",
    "    \n",
    "    X = dataset[features]\n",
    "    Y = dataset[target]\n",
    "\n",
    "    X = preprocess_fn(X, Y, *hyperparameters)\n",
    "    \n",
    "    x_train, x_test, y_train, y_test = train_test_split(X, Y, test_size=0.2)\n",
    "    \n",
    "    model = logistic_fn(x_train, y_train)\n",
    "    \n",
    "    y_pred = model.predict(x_test)\n",
    "    \n",
    "    acc = accuracy_score(y_test, y_pred)\n",
    "    prec = precision_score(y_test, y_pred)\n",
    "    recall = recall_score(y_test, y_pred)\n",
    "\n",
    "    return {'accuracy': acc, \n",
    "            'precision' : prec,\n",
    "            'recall' : recall}    "
   ]
  },
  {
   "cell_type": "code",
   "execution_count": 72,
   "metadata": {},
   "outputs": [],
   "source": [
    "def compare_results(result_dict):\n",
    "    \n",
    "    for key in result_dict:\n",
    "        print('Test: ', key)\n",
    "\n",
    "        print()\n",
    "        print(\"accuracy_score : \", result_dict[key]['accuracy'])\n",
    "        print(\"precision_score : \", result_dict[key]['precision'])\n",
    "        print(\"recall_score : \", result_dict[key]['recall'])\n",
    "        print()"
   ]
  },
  {
   "cell_type": "code",
   "execution_count": 73,
   "metadata": {},
   "outputs": [],
   "source": [
    "def visualize_results_kbest(result_dict):\n",
    "    \n",
    "    n_components = list(range(0, 8))\n",
    "    acc = [result_dict[key]['accuracy'] for key in result_dict]\n",
    "\n",
    "    plt.figure(figsize = (12, 10))\n",
    "    plt.plot(n_components, acc)\n",
    "\n",
    "    pylab.ylim([0,1])\n",
    "\n",
    "    plt.xlabel('n components')\n",
    "    plt.ylabel('accuracy');"
   ]
  },
  {
   "cell_type": "code",
   "execution_count": 74,
   "metadata": {},
   "outputs": [],
   "source": [
    "def logistic_fn(x_train, y_train):\n",
    "    \n",
    "    model = LogisticRegression(solver = 'liblinear')\n",
    "    model.fit(x_train, y_train)\n",
    "    \n",
    "    return model"
   ]
  },
  {
   "cell_type": "markdown",
   "metadata": {},
   "source": [
    "## Feature Selection : CHI2\n",
    " * Chi2 - Chi-squared stats of non-negative features for classification tasks\n",
    " * SelectKBest removes all but the k highest scoring features\n",
    " \n",
    " https://scikit-learn.org/stable/modules/generated/sklearn.feature_selection.chi2.html"
   ]
  },
  {
   "cell_type": "code",
   "execution_count": 75,
   "metadata": {},
   "outputs": [],
   "source": [
    "from sklearn.feature_selection import chi2, SelectKBest\n",
    "\n",
    "def apply_chi2(x, y, k):\n",
    "    \n",
    "    select_features = SelectKBest(chi2, k = k)\n",
    "    x_new = select_features.fit_transform(x, y)\n",
    "        \n",
    "    return pd.DataFrame(x_new)"
   ]
  },
  {
   "cell_type": "code",
   "execution_count": 76,
   "metadata": {},
   "outputs": [],
   "source": [
    "result_dict = {}\n",
    "    \n",
    "for i in range (1, 9):\n",
    "    result_dict['chi2 - ' + str(i)] = build_model('class',\n",
    "                                                   FEATURES,\n",
    "                                                   diabetes_df,\n",
    "                                                   apply_chi2,\n",
    "                                                   i)"
   ]
  },
  {
   "cell_type": "code",
   "execution_count": 77,
   "metadata": {},
   "outputs": [
    {
     "name": "stdout",
     "output_type": "stream",
     "text": [
      "Test:  chi2 - 1\n",
      "\n",
      "accuracy_score :  0.6623376623376623\n",
      "precision_score :  0.6666666666666666\n",
      "recall_score :  0.07407407407407407\n",
      "\n",
      "Test:  chi2 - 2\n",
      "\n",
      "accuracy_score :  0.7402597402597403\n",
      "precision_score :  0.6842105263157895\n",
      "recall_score :  0.48148148148148145\n",
      "\n",
      "Test:  chi2 - 3\n",
      "\n",
      "accuracy_score :  0.7467532467532467\n",
      "precision_score :  0.7419354838709677\n",
      "recall_score :  0.42592592592592593\n",
      "\n",
      "Test:  chi2 - 4\n",
      "\n",
      "accuracy_score :  0.7857142857142857\n",
      "precision_score :  0.696969696969697\n",
      "recall_score :  0.5\n",
      "\n",
      "Test:  chi2 - 5\n",
      "\n",
      "accuracy_score :  0.7337662337662337\n",
      "precision_score :  0.7045454545454546\n",
      "recall_score :  0.5254237288135594\n",
      "\n",
      "Test:  chi2 - 6\n",
      "\n",
      "accuracy_score :  0.7727272727272727\n",
      "precision_score :  0.775\n",
      "recall_score :  0.543859649122807\n",
      "\n",
      "Test:  chi2 - 7\n",
      "\n",
      "accuracy_score :  0.7922077922077922\n",
      "precision_score :  0.6981132075471698\n",
      "recall_score :  0.6981132075471698\n",
      "\n",
      "Test:  chi2 - 8\n",
      "\n",
      "accuracy_score :  0.8051948051948052\n",
      "precision_score :  0.7954545454545454\n",
      "recall_score :  0.625\n",
      "\n"
     ]
    }
   ],
   "source": [
    "compare_results(result_dict)"
   ]
  },
  {
   "cell_type": "code",
   "execution_count": 78,
   "metadata": {},
   "outputs": [
    {
     "data": {
      "image/png": "[encoded data removed]",
      "text/plain": [
       "<Figure size 864x720 with 1 Axes>"
      ]
     },
     "metadata": {
      "needs_background": "light"
     },
     "output_type": "display_data"
    }
   ],
   "source": [
    "visualize_results_kbest(result_dict)"
   ]
  },
  {
   "cell_type": "markdown",
   "metadata": {},
   "source": [
    "## Feature Selection : f_classif\n",
    "\n",
    " * f_classif - ANOVA F-value between label/feature for classification tasks.\n",
    " * SelectKBest removes all but the k highest scoring features\n",
    " \n",
    " https://scikit-learn.org/stable/modules/generated/sklearn.feature_selection.f_classif.html#sklearn.feature_selection.f_classif"
   ]
  },
  {
   "cell_type": "code",
   "execution_count": 79,
   "metadata": {},
   "outputs": [],
   "source": [
    "from sklearn.feature_selection import f_classif\n",
    "\n",
    "def apply_f_classif(x, y, k):\n",
    "    \n",
    "    select_features = SelectKBest(f_classif, k = k)\n",
    "    x_new = select_features.fit_transform(x, y)\n",
    "        \n",
    "    return pd.DataFrame(x_new)"
   ]
  },
  {
   "cell_type": "code",
   "execution_count": 80,
   "metadata": {},
   "outputs": [],
   "source": [
    "result_dict = {}\n",
    "    \n",
    "for i in range (1, 9):\n",
    "    result_dict['f_classif - ' + str(i)] = build_model('class',\n",
    "                                                       FEATURES,\n",
    "                                                       diabetes_df,\n",
    "                                                       apply_f_classif,\n",
    "                                                       i)"
   ]
  },
  {
   "cell_type": "code",
   "execution_count": 81,
   "metadata": {},
   "outputs": [
    {
     "name": "stdout",
     "output_type": "stream",
     "text": [
      "Test:  f_classif - 1\n",
      "\n",
      "accuracy_score :  0.7272727272727273\n",
      "precision_score :  0.7222222222222222\n",
      "recall_score :  0.4482758620689655\n",
      "\n",
      "Test:  f_classif - 2\n",
      "\n",
      "accuracy_score :  0.7532467532467533\n",
      "precision_score :  0.7647058823529411\n",
      "recall_score :  0.4642857142857143\n",
      "\n",
      "Test:  f_classif - 3\n",
      "\n",
      "accuracy_score :  0.7727272727272727\n",
      "precision_score :  0.6842105263157895\n",
      "recall_score :  0.5306122448979592\n",
      "\n",
      "Test:  f_classif - 4\n",
      "\n",
      "accuracy_score :  0.7727272727272727\n",
      "precision_score :  0.6808510638297872\n",
      "recall_score :  0.6153846153846154\n",
      "\n",
      "Test:  f_classif - 5\n",
      "\n",
      "accuracy_score :  0.7792207792207793\n",
      "precision_score :  0.7575757575757576\n",
      "recall_score :  0.49019607843137253\n",
      "\n",
      "Test:  f_classif - 6\n",
      "\n",
      "accuracy_score :  0.7142857142857143\n",
      "precision_score :  0.7297297297297297\n",
      "recall_score :  0.4426229508196721\n",
      "\n",
      "Test:  f_classif - 7\n",
      "\n",
      "accuracy_score :  0.7922077922077922\n",
      "precision_score :  0.775\n",
      "recall_score :  0.5740740740740741\n",
      "\n",
      "Test:  f_classif - 8\n",
      "\n",
      "accuracy_score :  0.7922077922077922\n",
      "precision_score :  0.7857142857142857\n",
      "recall_score :  0.5892857142857143\n",
      "\n"
     ]
    }
   ],
   "source": [
    "compare_results(result_dict)"
   ]
  },
  {
   "cell_type": "code",
   "execution_count": 82,
   "metadata": {},
   "outputs": [
    {
     "data": {
      "image/png": "[encoded data removed]",
      "text/plain": [
       "<Figure size 864x720 with 1 Axes>"
      ]
     },
     "metadata": {
      "needs_background": "light"
     },
     "output_type": "display_data"
    }
   ],
   "source": [
    "visualize_results_kbest(result_dict)"
   ]
  },
  {
   "cell_type": "markdown",
   "metadata": {},
   "source": [
    "## Feature Selection : mutual_info_classif\n",
    "\n",
    " * mutual_info_classif - Estimate mutual information for a discrete target variable.\n",
    " * SelectPercentile removes all but a user-specified highest scoring percentage of features\n",
    " \n",
    " https://scikit-learn.org/stable/modules/generated/sklearn.feature_selection.mutual_info_classif.html\n",
    " https://scikit-learn.org/stable/modules/generated/sklearn.feature_selection.SelectPercentile.html"
   ]
  },
  {
   "cell_type": "code",
   "execution_count": 83,
   "metadata": {},
   "outputs": [],
   "source": [
    "from sklearn.feature_selection import mutual_info_classif, SelectPercentile\n",
    "\n",
    "def apply_mutual_info_classif(x, y, percentile):\n",
    "    \n",
    "    select_features = SelectPercentile(mutual_info_classif, percentile = percentile)\n",
    "    x_new = select_features.fit_transform(x, y)\n",
    "        \n",
    "    return pd.DataFrame(x_new)"
   ]
  },
  {
   "cell_type": "code",
   "execution_count": 84,
   "metadata": {},
   "outputs": [],
   "source": [
    "def visualize_results_percentile(result_dict):\n",
    "    \n",
    "    n_components = list(range(1, 100, 10))\n",
    "    acc = [result_dict[key]['accuracy'] for key in result_dict]\n",
    "\n",
    "    plt.figure(figsize = (12, 10))\n",
    "    plt.plot(n_components, acc)\n",
    "\n",
    "    pylab.ylim([0,1])\n",
    "\n",
    "    plt.xlabel('percentile')\n",
    "    plt.ylabel('accuracy');"
   ]
  },
  {
   "cell_type": "code",
   "execution_count": 85,
   "metadata": {},
   "outputs": [],
   "source": [
    "result_dict = {}\n",
    "    \n",
    "for i in range(1, 100, 10):\n",
    "    result_dict['mutual_info_classif percentile - ' + str(i)] = build_model('class',\n",
    "                                                   FEATURES,\n",
    "                                                   diabetes_df,\n",
    "                                                   apply_mutual_info_classif,\n",
    "                                                   i)"
   ]
  },
  {
   "cell_type": "code",
   "execution_count": 86,
   "metadata": {},
   "outputs": [
    {
     "name": "stdout",
     "output_type": "stream",
     "text": [
      "Test:  mutual_info_classif percentile - 1\n",
      "\n",
      "accuracy_score :  0.7662337662337663\n",
      "precision_score :  0.7714285714285715\n",
      "recall_score :  0.4909090909090909\n",
      "\n",
      "Test:  mutual_info_classif percentile - 11\n",
      "\n",
      "accuracy_score :  0.7727272727272727\n",
      "precision_score :  0.8064516129032258\n",
      "recall_score :  0.46296296296296297\n",
      "\n",
      "Test:  mutual_info_classif percentile - 21\n",
      "\n",
      "accuracy_score :  0.7792207792207793\n",
      "precision_score :  0.75\n",
      "recall_score :  0.48\n",
      "\n",
      "Test:  mutual_info_classif percentile - 31\n",
      "\n",
      "accuracy_score :  0.7597402597402597\n",
      "precision_score :  0.7666666666666667\n",
      "recall_score :  0.4339622641509434\n",
      "\n",
      "Test:  mutual_info_classif percentile - 41\n",
      "\n",
      "accuracy_score :  0.7402597402597403\n",
      "precision_score :  0.8181818181818182\n",
      "recall_score :  0.4426229508196721\n",
      "\n",
      "Test:  mutual_info_classif percentile - 51\n",
      "\n",
      "accuracy_score :  0.7597402597402597\n",
      "precision_score :  0.7916666666666666\n",
      "recall_score :  0.5846153846153846\n",
      "\n",
      "Test:  mutual_info_classif percentile - 61\n",
      "\n",
      "accuracy_score :  0.7922077922077922\n",
      "precision_score :  0.8048780487804879\n",
      "recall_score :  0.5789473684210527\n",
      "\n",
      "Test:  mutual_info_classif percentile - 71\n",
      "\n",
      "accuracy_score :  0.7792207792207793\n",
      "precision_score :  0.8541666666666666\n",
      "recall_score :  0.6029411764705882\n",
      "\n",
      "Test:  mutual_info_classif percentile - 81\n",
      "\n",
      "accuracy_score :  0.8051948051948052\n",
      "precision_score :  0.8378378378378378\n",
      "recall_score :  0.5636363636363636\n",
      "\n",
      "Test:  mutual_info_classif percentile - 91\n",
      "\n",
      "accuracy_score :  0.7597402597402597\n",
      "precision_score :  0.6595744680851063\n",
      "recall_score :  0.5961538461538461\n",
      "\n"
     ]
    }
   ],
   "source": [
    "compare_results(result_dict)"
   ]
  },
  {
   "cell_type": "code",
   "execution_count": 87,
   "metadata": {},
   "outputs": [
    {
     "data": {
      "image/png": "[encoded data removed]",
      "text/plain": [
       "<Figure size 864x720 with 1 Axes>"
      ]
     },
     "metadata": {
      "needs_background": "light"
     },
     "output_type": "display_data"
    }
   ],
   "source": [
    "visualize_results_percentile(result_dict)"
   ]
  },
  {
   "cell_type": "code",
   "execution_count": null,
   "metadata": {},
   "outputs": [],
   "source": []
  }
 ],
 "metadata": {
  "kernelspec": {
   "display_name": "Python 3",
   "language": "python",
   "name": "python3"
  },
  "language_info": {
   "codemirror_mode": {
    "name": "ipython",
    "version": 3
   },
   "file_extension": ".py",
   "mimetype": "text/x-python",
   "name": "python",
   "nbconvert_exporter": "python",
   "pygments_lexer": "ipython3",
   "version": "3.7.1"
  }
 },
 "nbformat": 4,
 "nbformat_minor": 2
}
