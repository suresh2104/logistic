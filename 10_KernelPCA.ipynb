{
 "cells": [
  {
   "cell_type": "markdown",
   "metadata": {},
   "source": [
    "## Kernel PCA for non-linear data\n",
    "\n",
    "* Data, which isn’t linearly separable in ’n’ dimensional space may be linearly separable in a higher dimensional space.\n",
    "* Kernel methods transform data into another dimension that has a clear dividing margin between classes of data\n",
    "\n",
    "https://scikit-learn.org/stable/modules/generated/sklearn.decomposition.KernelPCA.html"
   ]
  },
  {
   "cell_type": "code",
   "execution_count": 1,
   "metadata": {},
   "outputs": [],
   "source": [
    "import pandas as pd\n",
    "import pylab as pl\n",
    "import matplotlib.pyplot as plt"
   ]
  },
  {
   "cell_type": "markdown",
   "metadata": {},
   "source": [
    "### Load Data\n",
    "* make_circles : Make a large circle containing a smaller circle in 2d.\n",
    "* n_samples : The total number of points generated. If odd, the inner circle will have one point more than the outer circle.\n",
    "* factor : Scale factor between inner and outer circle.\n",
    "* noise : Standard deviation of Gaussian noise added to the data.\n",
    "\n",
    "https://scikit-learn.org/stable/modules/generated/sklearn.datasets.make_circles.html"
   ]
  },
  {
   "cell_type": "code",
   "execution_count": 27,
   "metadata": {},
   "outputs": [],
   "source": [
    "from sklearn.datasets import make_circles\n",
    "\n",
    "X, y = make_circles(n_samples = 400, factor = .3, noise = .05)"
   ]
  },
  {
   "cell_type": "code",
   "execution_count": 28,
   "metadata": {},
   "outputs": [],
   "source": [
    "# FOR RECORDING: After recording till the end, come back and use this instead of the make_circles\n",
    "# line above and re-run the code till the end\n",
    "\n",
    "# from sklearn.datasets import make_moons\n",
    "\n",
    "# X, y = make_moons(n_samples = 400, noise = .05)"
   ]
  },
  {
   "cell_type": "code",
   "execution_count": 29,
   "metadata": {},
   "outputs": [
    {
     "data": {
      "text/plain": [
       "(400, 2)"
      ]
     },
     "execution_count": 29,
     "metadata": {},
     "output_type": "execute_result"
    }
   ],
   "source": [
    "X.shape"
   ]
  },
  {
   "cell_type": "code",
   "execution_count": 30,
   "metadata": {},
   "outputs": [
    {
     "data": {
      "text/html": [
       "<div>\n",
       "<style scoped>\n",
       "    .dataframe tbody tr th:only-of-type {\n",
       "        vertical-align: middle;\n",
       "    }\n",
       "\n",
       "    .dataframe tbody tr th {\n",
       "        vertical-align: top;\n",
       "    }\n",
       "\n",
       "    .dataframe thead th {\n",
       "        text-align: right;\n",
       "    }\n",
       "</style>\n",
       "<table border=\"1\" class=\"dataframe\">\n",
       "  <thead>\n",
       "    <tr style=\"text-align: right;\">\n",
       "      <th></th>\n",
       "      <th>0</th>\n",
       "      <th>1</th>\n",
       "    </tr>\n",
       "  </thead>\n",
       "  <tbody>\n",
       "    <tr>\n",
       "      <th>66</th>\n",
       "      <td>0.462455</td>\n",
       "      <td>0.891341</td>\n",
       "    </tr>\n",
       "    <tr>\n",
       "      <th>356</th>\n",
       "      <td>0.148422</td>\n",
       "      <td>0.317795</td>\n",
       "    </tr>\n",
       "    <tr>\n",
       "      <th>7</th>\n",
       "      <td>0.273066</td>\n",
       "      <td>-0.024596</td>\n",
       "    </tr>\n",
       "    <tr>\n",
       "      <th>107</th>\n",
       "      <td>-0.081186</td>\n",
       "      <td>0.342858</td>\n",
       "    </tr>\n",
       "    <tr>\n",
       "      <th>385</th>\n",
       "      <td>0.489438</td>\n",
       "      <td>0.743986</td>\n",
       "    </tr>\n",
       "    <tr>\n",
       "      <th>364</th>\n",
       "      <td>0.301518</td>\n",
       "      <td>-0.221914</td>\n",
       "    </tr>\n",
       "    <tr>\n",
       "      <th>13</th>\n",
       "      <td>-1.041839</td>\n",
       "      <td>-0.474791</td>\n",
       "    </tr>\n",
       "    <tr>\n",
       "      <th>170</th>\n",
       "      <td>0.273056</td>\n",
       "      <td>0.010152</td>\n",
       "    </tr>\n",
       "    <tr>\n",
       "      <th>277</th>\n",
       "      <td>0.069846</td>\n",
       "      <td>-0.356188</td>\n",
       "    </tr>\n",
       "    <tr>\n",
       "      <th>188</th>\n",
       "      <td>-0.212709</td>\n",
       "      <td>-1.050159</td>\n",
       "    </tr>\n",
       "  </tbody>\n",
       "</table>\n",
       "</div>"
      ],
      "text/plain": [
       "            0         1\n",
       "66   0.462455  0.891341\n",
       "356  0.148422  0.317795\n",
       "7    0.273066 -0.024596\n",
       "107 -0.081186  0.342858\n",
       "385  0.489438  0.743986\n",
       "364  0.301518 -0.221914\n",
       "13  -1.041839 -0.474791\n",
       "170  0.273056  0.010152\n",
       "277  0.069846 -0.356188\n",
       "188 -0.212709 -1.050159"
      ]
     },
     "execution_count": 30,
     "metadata": {},
     "output_type": "execute_result"
    }
   ],
   "source": [
    "pd.DataFrame(X).sample(10)"
   ]
  },
  {
   "cell_type": "code",
   "execution_count": 31,
   "metadata": {},
   "outputs": [
    {
     "data": {
      "text/plain": [
       "(400,)"
      ]
     },
     "execution_count": 31,
     "metadata": {},
     "output_type": "execute_result"
    }
   ],
   "source": [
    "y.shape"
   ]
  },
  {
   "cell_type": "code",
   "execution_count": 32,
   "metadata": {},
   "outputs": [
    {
     "data": {
      "text/html": [
       "<div>\n",
       "<style scoped>\n",
       "    .dataframe tbody tr th:only-of-type {\n",
       "        vertical-align: middle;\n",
       "    }\n",
       "\n",
       "    .dataframe tbody tr th {\n",
       "        vertical-align: top;\n",
       "    }\n",
       "\n",
       "    .dataframe thead th {\n",
       "        text-align: right;\n",
       "    }\n",
       "</style>\n",
       "<table border=\"1\" class=\"dataframe\">\n",
       "  <thead>\n",
       "    <tr style=\"text-align: right;\">\n",
       "      <th></th>\n",
       "      <th>0</th>\n",
       "    </tr>\n",
       "  </thead>\n",
       "  <tbody>\n",
       "    <tr>\n",
       "      <th>305</th>\n",
       "      <td>1</td>\n",
       "    </tr>\n",
       "    <tr>\n",
       "      <th>163</th>\n",
       "      <td>1</td>\n",
       "    </tr>\n",
       "    <tr>\n",
       "      <th>136</th>\n",
       "      <td>0</td>\n",
       "    </tr>\n",
       "    <tr>\n",
       "      <th>88</th>\n",
       "      <td>0</td>\n",
       "    </tr>\n",
       "    <tr>\n",
       "      <th>362</th>\n",
       "      <td>1</td>\n",
       "    </tr>\n",
       "    <tr>\n",
       "      <th>251</th>\n",
       "      <td>1</td>\n",
       "    </tr>\n",
       "    <tr>\n",
       "      <th>112</th>\n",
       "      <td>0</td>\n",
       "    </tr>\n",
       "    <tr>\n",
       "      <th>101</th>\n",
       "      <td>1</td>\n",
       "    </tr>\n",
       "    <tr>\n",
       "      <th>341</th>\n",
       "      <td>0</td>\n",
       "    </tr>\n",
       "    <tr>\n",
       "      <th>226</th>\n",
       "      <td>1</td>\n",
       "    </tr>\n",
       "  </tbody>\n",
       "</table>\n",
       "</div>"
      ],
      "text/plain": [
       "     0\n",
       "305  1\n",
       "163  1\n",
       "136  0\n",
       "88   0\n",
       "362  1\n",
       "251  1\n",
       "112  0\n",
       "101  1\n",
       "341  0\n",
       "226  1"
      ]
     },
     "execution_count": 32,
     "metadata": {},
     "output_type": "execute_result"
    }
   ],
   "source": [
    "pd.DataFrame(y).sample(10)"
   ]
  },
  {
   "cell_type": "code",
   "execution_count": 33,
   "metadata": {},
   "outputs": [
    {
     "data": {
      "image/png": "[encoded data removed]",
      "text/plain": [
       "<Figure size 864x576 with 1 Axes>"
      ]
     },
     "metadata": {
      "needs_background": "light"
     },
     "output_type": "display_data"
    }
   ],
   "source": [
    "pl.figure(figsize = (12, 8))\n",
    "pl.title(\"Original space\")\n",
    "\n",
    "\n",
    "pl.plot( X[y == 0, 0], X[y == 0, 1], \"ro\" )\n",
    "pl.plot( X[y == 1, 0], X[y == 1, 1], \"bo\")\n",
    "\n",
    "plt.xlabel('X[0]')\n",
    "plt.ylabel('X[1]');"
   ]
  },
  {
   "cell_type": "markdown",
   "metadata": {},
   "source": [
    "### Apply PCA on circles and visualize results\n"
   ]
  },
  {
   "cell_type": "code",
   "execution_count": 34,
   "metadata": {},
   "outputs": [],
   "source": [
    "from sklearn.decomposition import PCA\n",
    "\n",
    "pca = PCA(n_components = 2)"
   ]
  },
  {
   "cell_type": "code",
   "execution_count": 35,
   "metadata": {},
   "outputs": [],
   "source": [
    "X_new = pca.fit_transform(X)"
   ]
  },
  {
   "cell_type": "code",
   "execution_count": 36,
   "metadata": {},
   "outputs": [
    {
     "name": "stdout",
     "output_type": "stream",
     "text": [
      "Explained Variance: [0.50529144 0.49470856]\n"
     ]
    }
   ],
   "source": [
    "print(\"Explained Variance:\", pca.explained_variance_ratio_)"
   ]
  },
  {
   "cell_type": "code",
   "execution_count": 37,
   "metadata": {},
   "outputs": [
    {
     "name": "stdout",
     "output_type": "stream",
     "text": [
      "[[-0.99899384  0.04484766]\n",
      " [ 0.04484766  0.99899384]]\n"
     ]
    }
   ],
   "source": [
    "print (pca.components_)"
   ]
  },
  {
   "cell_type": "code",
   "execution_count": 38,
   "metadata": {},
   "outputs": [
    {
     "data": {
      "text/plain": [
       "(400, 2)"
      ]
     },
     "execution_count": 38,
     "metadata": {},
     "output_type": "execute_result"
    }
   ],
   "source": [
    "X_new.shape"
   ]
  },
  {
   "cell_type": "code",
   "execution_count": 39,
   "metadata": {},
   "outputs": [
    {
     "data": {
      "text/html": [
       "<div>\n",
       "<style scoped>\n",
       "    .dataframe tbody tr th:only-of-type {\n",
       "        vertical-align: middle;\n",
       "    }\n",
       "\n",
       "    .dataframe tbody tr th {\n",
       "        vertical-align: top;\n",
       "    }\n",
       "\n",
       "    .dataframe thead th {\n",
       "        text-align: right;\n",
       "    }\n",
       "</style>\n",
       "<table border=\"1\" class=\"dataframe\">\n",
       "  <thead>\n",
       "    <tr style=\"text-align: right;\">\n",
       "      <th></th>\n",
       "      <th>0</th>\n",
       "      <th>1</th>\n",
       "    </tr>\n",
       "  </thead>\n",
       "  <tbody>\n",
       "    <tr>\n",
       "      <th>30</th>\n",
       "      <td>-0.777124</td>\n",
       "      <td>-0.695716</td>\n",
       "    </tr>\n",
       "    <tr>\n",
       "      <th>329</th>\n",
       "      <td>-0.400452</td>\n",
       "      <td>0.971234</td>\n",
       "    </tr>\n",
       "    <tr>\n",
       "      <th>318</th>\n",
       "      <td>0.046356</td>\n",
       "      <td>0.316980</td>\n",
       "    </tr>\n",
       "    <tr>\n",
       "      <th>84</th>\n",
       "      <td>-0.894370</td>\n",
       "      <td>-0.420520</td>\n",
       "    </tr>\n",
       "    <tr>\n",
       "      <th>102</th>\n",
       "      <td>-0.451437</td>\n",
       "      <td>-0.845946</td>\n",
       "    </tr>\n",
       "    <tr>\n",
       "      <th>382</th>\n",
       "      <td>1.022768</td>\n",
       "      <td>0.282446</td>\n",
       "    </tr>\n",
       "    <tr>\n",
       "      <th>339</th>\n",
       "      <td>-0.330450</td>\n",
       "      <td>0.026659</td>\n",
       "    </tr>\n",
       "    <tr>\n",
       "      <th>206</th>\n",
       "      <td>0.269732</td>\n",
       "      <td>-0.021301</td>\n",
       "    </tr>\n",
       "    <tr>\n",
       "      <th>344</th>\n",
       "      <td>-0.736767</td>\n",
       "      <td>0.776635</td>\n",
       "    </tr>\n",
       "    <tr>\n",
       "      <th>217</th>\n",
       "      <td>-0.263112</td>\n",
       "      <td>-0.213480</td>\n",
       "    </tr>\n",
       "  </tbody>\n",
       "</table>\n",
       "</div>"
      ],
      "text/plain": [
       "            0         1\n",
       "30  -0.777124 -0.695716\n",
       "329 -0.400452  0.971234\n",
       "318  0.046356  0.316980\n",
       "84  -0.894370 -0.420520\n",
       "102 -0.451437 -0.845946\n",
       "382  1.022768  0.282446\n",
       "339 -0.330450  0.026659\n",
       "206  0.269732 -0.021301\n",
       "344 -0.736767  0.776635\n",
       "217 -0.263112 -0.213480"
      ]
     },
     "execution_count": 39,
     "metadata": {},
     "output_type": "execute_result"
    }
   ],
   "source": [
    "pd.DataFrame(X_new).sample(10)"
   ]
  },
  {
   "cell_type": "code",
   "execution_count": 40,
   "metadata": {},
   "outputs": [
    {
     "data": {
      "image/png": "[encoded data removed]",
      "text/plain": [
       "<Figure size 864x576 with 1 Axes>"
      ]
     },
     "metadata": {
      "needs_background": "light"
     },
     "output_type": "display_data"
    }
   ],
   "source": [
    "pl.figure(figsize = (12, 8))\n",
    "pl.title(\"PCA Projection\")\n",
    "\n",
    "\n",
    "pl.plot(X_new[y == 0, 0], X_new[y == 0, 1], \"ro\")\n",
    "pl.plot(X_new[y == 1, 0], X_new[y == 1, 1], \"bo\")\n",
    "\n",
    "plt.xlabel('X[0]')\n",
    "plt.ylabel('X[1]');"
   ]
  },
  {
   "cell_type": "markdown",
   "metadata": {},
   "source": [
    "## Kernel PCA\n",
    "Data, which isn’t linearly separable in ’n’ dimensional space may be linearly separable in a higher dimensional space.\n",
    "* kernel : “linear” | “poly” | “rbf” | “sigmoid” | “cosine” | “precomputed”\n",
    "* gamma : Kernel coefficient for rbf, poly and sigmoid kernels. Ignored by other kernels. default=1/n_features\n",
    "\n",
    "\t\n",
    "* lambdas_ : Eigenvalues of the centered kernel matrix in decreasing order. If n_components and remove_zero_eig are not set, then all values are stored.\n",
    "\n",
    "* alphas_ : Eigenvectors of the centered kernel matrix. If n_components and remove_zero_eig are not set, then all components are stored.\n"
   ]
  },
  {
   "cell_type": "code",
   "execution_count": 41,
   "metadata": {},
   "outputs": [],
   "source": [
    "from sklearn.decomposition import KernelPCA\n",
    "\n",
    "kpca = KernelPCA(kernel = \"rbf\", gamma = 3)"
   ]
  },
  {
   "cell_type": "code",
   "execution_count": 42,
   "metadata": {},
   "outputs": [],
   "source": [
    "X_new = kpca.fit_transform(X)"
   ]
  },
  {
   "cell_type": "code",
   "execution_count": 43,
   "metadata": {},
   "outputs": [
    {
     "data": {
      "text/plain": [
       "(400, 372)"
      ]
     },
     "execution_count": 43,
     "metadata": {},
     "output_type": "execute_result"
    }
   ],
   "source": [
    "X_new.shape"
   ]
  },
  {
   "cell_type": "code",
   "execution_count": 44,
   "metadata": {},
   "outputs": [
    {
     "data": {
      "text/html": [
       "<div>\n",
       "<style scoped>\n",
       "    .dataframe tbody tr th:only-of-type {\n",
       "        vertical-align: middle;\n",
       "    }\n",
       "\n",
       "    .dataframe tbody tr th {\n",
       "        vertical-align: top;\n",
       "    }\n",
       "\n",
       "    .dataframe thead th {\n",
       "        text-align: right;\n",
       "    }\n",
       "</style>\n",
       "<table border=\"1\" class=\"dataframe\">\n",
       "  <thead>\n",
       "    <tr style=\"text-align: right;\">\n",
       "      <th></th>\n",
       "      <th>0</th>\n",
       "      <th>1</th>\n",
       "      <th>2</th>\n",
       "      <th>3</th>\n",
       "      <th>4</th>\n",
       "      <th>5</th>\n",
       "      <th>6</th>\n",
       "      <th>7</th>\n",
       "      <th>8</th>\n",
       "      <th>9</th>\n",
       "      <th>...</th>\n",
       "      <th>362</th>\n",
       "      <th>363</th>\n",
       "      <th>364</th>\n",
       "      <th>365</th>\n",
       "      <th>366</th>\n",
       "      <th>367</th>\n",
       "      <th>368</th>\n",
       "      <th>369</th>\n",
       "      <th>370</th>\n",
       "      <th>371</th>\n",
       "    </tr>\n",
       "  </thead>\n",
       "  <tbody>\n",
       "    <tr>\n",
       "      <th>260</th>\n",
       "      <td>0.411846</td>\n",
       "      <td>-0.103529</td>\n",
       "      <td>0.333630</td>\n",
       "      <td>0.257689</td>\n",
       "      <td>0.320428</td>\n",
       "      <td>0.324889</td>\n",
       "      <td>0.231287</td>\n",
       "      <td>0.409957</td>\n",
       "      <td>-0.047246</td>\n",
       "      <td>-0.114258</td>\n",
       "      <td>...</td>\n",
       "      <td>-4.329149e-12</td>\n",
       "      <td>1.888994e-12</td>\n",
       "      <td>4.396975e-12</td>\n",
       "      <td>3.903946e-12</td>\n",
       "      <td>2.550269e-12</td>\n",
       "      <td>-1.280519e-14</td>\n",
       "      <td>8.909277e-13</td>\n",
       "      <td>-1.383751e-12</td>\n",
       "      <td>-4.297172e-13</td>\n",
       "      <td>2.892298e-12</td>\n",
       "    </tr>\n",
       "    <tr>\n",
       "      <th>367</th>\n",
       "      <td>0.365528</td>\n",
       "      <td>-0.484055</td>\n",
       "      <td>0.124533</td>\n",
       "      <td>-0.453486</td>\n",
       "      <td>0.147995</td>\n",
       "      <td>-0.075426</td>\n",
       "      <td>0.268892</td>\n",
       "      <td>-0.357039</td>\n",
       "      <td>0.017814</td>\n",
       "      <td>0.262217</td>\n",
       "      <td>...</td>\n",
       "      <td>1.422725e-12</td>\n",
       "      <td>5.098394e-11</td>\n",
       "      <td>1.766100e-11</td>\n",
       "      <td>-5.916372e-11</td>\n",
       "      <td>-8.038086e-13</td>\n",
       "      <td>6.560523e-12</td>\n",
       "      <td>1.757745e-11</td>\n",
       "      <td>1.867519e-11</td>\n",
       "      <td>-4.960023e-12</td>\n",
       "      <td>2.958318e-11</td>\n",
       "    </tr>\n",
       "    <tr>\n",
       "      <th>157</th>\n",
       "      <td>-0.348758</td>\n",
       "      <td>0.380637</td>\n",
       "      <td>-0.357281</td>\n",
       "      <td>-0.079987</td>\n",
       "      <td>0.123264</td>\n",
       "      <td>0.094001</td>\n",
       "      <td>0.292322</td>\n",
       "      <td>0.003377</td>\n",
       "      <td>0.039684</td>\n",
       "      <td>-0.008451</td>\n",
       "      <td>...</td>\n",
       "      <td>-1.602327e-10</td>\n",
       "      <td>4.667633e-10</td>\n",
       "      <td>4.493240e-10</td>\n",
       "      <td>-3.643163e-10</td>\n",
       "      <td>-2.695408e-10</td>\n",
       "      <td>2.547082e-10</td>\n",
       "      <td>-1.980626e-10</td>\n",
       "      <td>2.928624e-11</td>\n",
       "      <td>-3.401702e-11</td>\n",
       "      <td>1.142009e-10</td>\n",
       "    </tr>\n",
       "    <tr>\n",
       "      <th>32</th>\n",
       "      <td>-0.382934</td>\n",
       "      <td>-0.386001</td>\n",
       "      <td>0.313429</td>\n",
       "      <td>-0.018535</td>\n",
       "      <td>0.084698</td>\n",
       "      <td>-0.062343</td>\n",
       "      <td>-0.310488</td>\n",
       "      <td>-0.006470</td>\n",
       "      <td>-0.015729</td>\n",
       "      <td>-0.008749</td>\n",
       "      <td>...</td>\n",
       "      <td>2.134977e-10</td>\n",
       "      <td>-2.031734e-10</td>\n",
       "      <td>9.423482e-11</td>\n",
       "      <td>-2.794629e-10</td>\n",
       "      <td>-3.116218e-11</td>\n",
       "      <td>3.316152e-10</td>\n",
       "      <td>1.649992e-10</td>\n",
       "      <td>4.614961e-10</td>\n",
       "      <td>1.316580e-10</td>\n",
       "      <td>1.281198e-10</td>\n",
       "    </tr>\n",
       "    <tr>\n",
       "      <th>216</th>\n",
       "      <td>0.417647</td>\n",
       "      <td>-0.357880</td>\n",
       "      <td>0.174618</td>\n",
       "      <td>-0.352906</td>\n",
       "      <td>0.341856</td>\n",
       "      <td>0.025297</td>\n",
       "      <td>0.328248</td>\n",
       "      <td>-0.271154</td>\n",
       "      <td>-0.252647</td>\n",
       "      <td>0.097495</td>\n",
       "      <td>...</td>\n",
       "      <td>-1.899225e-12</td>\n",
       "      <td>1.771955e-11</td>\n",
       "      <td>-2.580408e-12</td>\n",
       "      <td>-1.835860e-11</td>\n",
       "      <td>-2.665250e-12</td>\n",
       "      <td>-3.853720e-12</td>\n",
       "      <td>7.009029e-12</td>\n",
       "      <td>-9.657072e-12</td>\n",
       "      <td>-3.477513e-12</td>\n",
       "      <td>-1.876459e-12</td>\n",
       "    </tr>\n",
       "    <tr>\n",
       "      <th>345</th>\n",
       "      <td>-0.459621</td>\n",
       "      <td>-0.407406</td>\n",
       "      <td>0.123427</td>\n",
       "      <td>-0.045958</td>\n",
       "      <td>-0.007470</td>\n",
       "      <td>0.044995</td>\n",
       "      <td>-0.292865</td>\n",
       "      <td>-0.018181</td>\n",
       "      <td>0.008397</td>\n",
       "      <td>0.002681</td>\n",
       "      <td>...</td>\n",
       "      <td>2.882308e-10</td>\n",
       "      <td>-7.936948e-10</td>\n",
       "      <td>3.531724e-11</td>\n",
       "      <td>-3.016163e-10</td>\n",
       "      <td>-1.977283e-10</td>\n",
       "      <td>-2.460977e-10</td>\n",
       "      <td>4.534750e-10</td>\n",
       "      <td>4.391651e-10</td>\n",
       "      <td>-1.249924e-10</td>\n",
       "      <td>7.677693e-11</td>\n",
       "    </tr>\n",
       "    <tr>\n",
       "      <th>353</th>\n",
       "      <td>0.409811</td>\n",
       "      <td>0.401797</td>\n",
       "      <td>0.122592</td>\n",
       "      <td>-0.321180</td>\n",
       "      <td>-0.363669</td>\n",
       "      <td>0.159953</td>\n",
       "      <td>-0.271097</td>\n",
       "      <td>-0.088299</td>\n",
       "      <td>-0.362811</td>\n",
       "      <td>-0.093979</td>\n",
       "      <td>...</td>\n",
       "      <td>5.763061e-11</td>\n",
       "      <td>1.534871e-12</td>\n",
       "      <td>-3.587317e-11</td>\n",
       "      <td>2.281959e-11</td>\n",
       "      <td>1.943571e-11</td>\n",
       "      <td>1.418704e-11</td>\n",
       "      <td>-2.081366e-11</td>\n",
       "      <td>-3.070994e-11</td>\n",
       "      <td>2.087875e-11</td>\n",
       "      <td>3.635506e-11</td>\n",
       "    </tr>\n",
       "    <tr>\n",
       "      <th>308</th>\n",
       "      <td>-0.423911</td>\n",
       "      <td>-0.184050</td>\n",
       "      <td>-0.425285</td>\n",
       "      <td>0.052975</td>\n",
       "      <td>-0.095697</td>\n",
       "      <td>0.294370</td>\n",
       "      <td>0.013870</td>\n",
       "      <td>0.015985</td>\n",
       "      <td>-0.041315</td>\n",
       "      <td>0.003276</td>\n",
       "      <td>...</td>\n",
       "      <td>-4.642114e-10</td>\n",
       "      <td>1.439080e-10</td>\n",
       "      <td>-4.865841e-10</td>\n",
       "      <td>-2.908230e-10</td>\n",
       "      <td>-1.945694e-10</td>\n",
       "      <td>1.398099e-10</td>\n",
       "      <td>2.929387e-10</td>\n",
       "      <td>1.989516e-10</td>\n",
       "      <td>3.764811e-10</td>\n",
       "      <td>7.742844e-11</td>\n",
       "    </tr>\n",
       "    <tr>\n",
       "      <th>354</th>\n",
       "      <td>-0.364617</td>\n",
       "      <td>0.411111</td>\n",
       "      <td>-0.300090</td>\n",
       "      <td>-0.099797</td>\n",
       "      <td>0.107894</td>\n",
       "      <td>0.054028</td>\n",
       "      <td>0.300107</td>\n",
       "      <td>0.013182</td>\n",
       "      <td>0.030895</td>\n",
       "      <td>-0.001254</td>\n",
       "      <td>...</td>\n",
       "      <td>2.626937e-10</td>\n",
       "      <td>-9.833172e-11</td>\n",
       "      <td>-1.610861e-10</td>\n",
       "      <td>-4.600199e-10</td>\n",
       "      <td>9.989487e-11</td>\n",
       "      <td>-1.557995e-10</td>\n",
       "      <td>8.970015e-12</td>\n",
       "      <td>-1.331097e-10</td>\n",
       "      <td>-4.113154e-11</td>\n",
       "      <td>9.382235e-11</td>\n",
       "    </tr>\n",
       "    <tr>\n",
       "      <th>387</th>\n",
       "      <td>0.400267</td>\n",
       "      <td>-0.438109</td>\n",
       "      <td>0.014227</td>\n",
       "      <td>-0.438137</td>\n",
       "      <td>-0.085953</td>\n",
       "      <td>-0.184363</td>\n",
       "      <td>0.305671</td>\n",
       "      <td>-0.280453</td>\n",
       "      <td>0.278466</td>\n",
       "      <td>0.228848</td>\n",
       "      <td>...</td>\n",
       "      <td>2.438217e-10</td>\n",
       "      <td>6.790867e-10</td>\n",
       "      <td>3.753560e-10</td>\n",
       "      <td>-2.109917e-10</td>\n",
       "      <td>2.916745e-10</td>\n",
       "      <td>1.079353e-10</td>\n",
       "      <td>2.143828e-10</td>\n",
       "      <td>-3.016659e-10</td>\n",
       "      <td>-2.518029e-10</td>\n",
       "      <td>3.399456e-11</td>\n",
       "    </tr>\n",
       "  </tbody>\n",
       "</table>\n",
       "<p>10 rows × 372 columns</p>\n",
       "</div>"
      ],
      "text/plain": [
       "          0         1         2         3         4         5         6    \\\n",
       "260  0.411846 -0.103529  0.333630  0.257689  0.320428  0.324889  0.231287   \n",
       "367  0.365528 -0.484055  0.124533 -0.453486  0.147995 -0.075426  0.268892   \n",
       "157 -0.348758  0.380637 -0.357281 -0.079987  0.123264  0.094001  0.292322   \n",
       "32  -0.382934 -0.386001  0.313429 -0.018535  0.084698 -0.062343 -0.310488   \n",
       "216  0.417647 -0.357880  0.174618 -0.352906  0.341856  0.025297  0.328248   \n",
       "345 -0.459621 -0.407406  0.123427 -0.045958 -0.007470  0.044995 -0.292865   \n",
       "353  0.409811  0.401797  0.122592 -0.321180 -0.363669  0.159953 -0.271097   \n",
       "308 -0.423911 -0.184050 -0.425285  0.052975 -0.095697  0.294370  0.013870   \n",
       "354 -0.364617  0.411111 -0.300090 -0.099797  0.107894  0.054028  0.300107   \n",
       "387  0.400267 -0.438109  0.014227 -0.438137 -0.085953 -0.184363  0.305671   \n",
       "\n",
       "          7         8         9        ...                362           363  \\\n",
       "260  0.409957 -0.047246 -0.114258      ...      -4.329149e-12  1.888994e-12   \n",
       "367 -0.357039  0.017814  0.262217      ...       1.422725e-12  5.098394e-11   \n",
       "157  0.003377  0.039684 -0.008451      ...      -1.602327e-10  4.667633e-10   \n",
       "32  -0.006470 -0.015729 -0.008749      ...       2.134977e-10 -2.031734e-10   \n",
       "216 -0.271154 -0.252647  0.097495      ...      -1.899225e-12  1.771955e-11   \n",
       "345 -0.018181  0.008397  0.002681      ...       2.882308e-10 -7.936948e-10   \n",
       "353 -0.088299 -0.362811 -0.093979      ...       5.763061e-11  1.534871e-12   \n",
       "308  0.015985 -0.041315  0.003276      ...      -4.642114e-10  1.439080e-10   \n",
       "354  0.013182  0.030895 -0.001254      ...       2.626937e-10 -9.833172e-11   \n",
       "387 -0.280453  0.278466  0.228848      ...       2.438217e-10  6.790867e-10   \n",
       "\n",
       "              364           365           366           367           368  \\\n",
       "260  4.396975e-12  3.903946e-12  2.550269e-12 -1.280519e-14  8.909277e-13   \n",
       "367  1.766100e-11 -5.916372e-11 -8.038086e-13  6.560523e-12  1.757745e-11   \n",
       "157  4.493240e-10 -3.643163e-10 -2.695408e-10  2.547082e-10 -1.980626e-10   \n",
       "32   9.423482e-11 -2.794629e-10 -3.116218e-11  3.316152e-10  1.649992e-10   \n",
       "216 -2.580408e-12 -1.835860e-11 -2.665250e-12 -3.853720e-12  7.009029e-12   \n",
       "345  3.531724e-11 -3.016163e-10 -1.977283e-10 -2.460977e-10  4.534750e-10   \n",
       "353 -3.587317e-11  2.281959e-11  1.943571e-11  1.418704e-11 -2.081366e-11   \n",
       "308 -4.865841e-10 -2.908230e-10 -1.945694e-10  1.398099e-10  2.929387e-10   \n",
       "354 -1.610861e-10 -4.600199e-10  9.989487e-11 -1.557995e-10  8.970015e-12   \n",
       "387  3.753560e-10 -2.109917e-10  2.916745e-10  1.079353e-10  2.143828e-10   \n",
       "\n",
       "              369           370           371  \n",
       "260 -1.383751e-12 -4.297172e-13  2.892298e-12  \n",
       "367  1.867519e-11 -4.960023e-12  2.958318e-11  \n",
       "157  2.928624e-11 -3.401702e-11  1.142009e-10  \n",
       "32   4.614961e-10  1.316580e-10  1.281198e-10  \n",
       "216 -9.657072e-12 -3.477513e-12 -1.876459e-12  \n",
       "345  4.391651e-10 -1.249924e-10  7.677693e-11  \n",
       "353 -3.070994e-11  2.087875e-11  3.635506e-11  \n",
       "308  1.989516e-10  3.764811e-10  7.742844e-11  \n",
       "354 -1.331097e-10 -4.113154e-11  9.382235e-11  \n",
       "387 -3.016659e-10 -2.518029e-10  3.399456e-11  \n",
       "\n",
       "[10 rows x 372 columns]"
      ]
     },
     "execution_count": 44,
     "metadata": {},
     "output_type": "execute_result"
    }
   ],
   "source": [
    "pd.DataFrame(X_new).sample(10)"
   ]
  },
  {
   "cell_type": "code",
   "execution_count": 45,
   "metadata": {},
   "outputs": [
    {
     "data": {
      "image/png": "[encoded data removed]",
      "text/plain": [
       "<Figure size 864x576 with 1 Axes>"
      ]
     },
     "metadata": {
      "needs_background": "light"
     },
     "output_type": "display_data"
    }
   ],
   "source": [
    "pl.figure(figsize = (12,8))\n",
    "pl.title(\"Kernel PCA\")\n",
    "\n",
    "\n",
    "pl.plot( X_new[y == 0, 0], X_new[y == 0, 1], \"ro\")\n",
    "pl.plot( X_new[y == 1, 0], X_new[y == 1, 1], \"bo\")\n",
    "\n",
    "plt.xlabel('X[0]')\n",
    "plt.ylabel('X[1]');"
   ]
  },
  {
   "cell_type": "code",
   "execution_count": null,
   "metadata": {},
   "outputs": [],
   "source": []
  },
  {
   "cell_type": "code",
   "execution_count": null,
   "metadata": {},
   "outputs": [],
   "source": []
  }
 ],
 "metadata": {
  "kernelspec": {
   "display_name": "Python 3",
   "language": "python",
   "name": "python3"
  },
  "language_info": {
   "codemirror_mode": {
    "name": "ipython",
    "version": 3
   },
   "file_extension": ".py",
   "mimetype": "text/x-python",
   "name": "python",
   "nbconvert_exporter": "python",
   "pygments_lexer": "ipython3",
   "version": "3.7.1"
  }
 },
 "nbformat": 4,
 "nbformat_minor": 2
}
