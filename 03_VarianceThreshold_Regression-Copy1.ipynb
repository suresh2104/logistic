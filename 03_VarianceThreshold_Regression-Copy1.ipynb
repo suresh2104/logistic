{
 "cells": [
  {
   "cell_type": "code",
   "execution_count": 16,
   "metadata": {},
   "outputs": [],
   "source": [
    "import pandas as pd\n",
    "import matplotlib.pyplot as plt\n",
    "\n",
    "from sklearn.metrics import r2_score\n",
    "from sklearn.model_selection import train_test_split\n",
    "\n",
    "import statsmodels.api as sm\n",
    "from sklearn.linear_model import LinearRegression\n",
    "\n",
    "from sklearn.preprocessing import minmax_scale"
   ]
  },
  {
   "cell_type": "markdown",
   "metadata": {},
   "source": [
    "### Load Data"
   ]
  },
  {
   "cell_type": "code",
   "execution_count": 2,
   "metadata": {},
   "outputs": [],
   "source": [
    "boston_df = pd.read_csv('datasets/boston.csv')"
   ]
  },
  {
   "cell_type": "code",
   "execution_count": 3,
   "metadata": {},
   "outputs": [
    {
     "data": {
      "text/plain": [
       "(506, 13)"
      ]
     },
     "execution_count": 3,
     "metadata": {},
     "output_type": "execute_result"
    }
   ],
   "source": [
    "boston_df.shape"
   ]
  },
  {
   "cell_type": "code",
   "execution_count": 4,
   "metadata": {},
   "outputs": [
    {
     "data": {
      "text/html": [
       "<div>\n",
       "<style scoped>\n",
       "    .dataframe tbody tr th:only-of-type {\n",
       "        vertical-align: middle;\n",
       "    }\n",
       "\n",
       "    .dataframe tbody tr th {\n",
       "        vertical-align: top;\n",
       "    }\n",
       "\n",
       "    .dataframe thead th {\n",
       "        text-align: right;\n",
       "    }\n",
       "</style>\n",
       "<table border=\"1\" class=\"dataframe\">\n",
       "  <thead>\n",
       "    <tr style=\"text-align: right;\">\n",
       "      <th></th>\n",
       "      <th>crime rate</th>\n",
       "      <th>residential land zone</th>\n",
       "      <th>business acres</th>\n",
       "      <th>Charles River</th>\n",
       "      <th>nitric oxides</th>\n",
       "      <th>number of rooms</th>\n",
       "      <th>age</th>\n",
       "      <th>distances to employment centres</th>\n",
       "      <th>accessibility to highways</th>\n",
       "      <th>property-tax</th>\n",
       "      <th>pupil-teacher ratio</th>\n",
       "      <th>lower income levels</th>\n",
       "      <th>Median Home Value</th>\n",
       "    </tr>\n",
       "  </thead>\n",
       "  <tbody>\n",
       "    <tr>\n",
       "      <th>0</th>\n",
       "      <td>0.00632</td>\n",
       "      <td>18.0</td>\n",
       "      <td>2.31</td>\n",
       "      <td>0.0</td>\n",
       "      <td>0.538</td>\n",
       "      <td>6.575</td>\n",
       "      <td>65.2</td>\n",
       "      <td>4.0900</td>\n",
       "      <td>1.0</td>\n",
       "      <td>296.0</td>\n",
       "      <td>15.3</td>\n",
       "      <td>4.98</td>\n",
       "      <td>24.0</td>\n",
       "    </tr>\n",
       "    <tr>\n",
       "      <th>1</th>\n",
       "      <td>0.02731</td>\n",
       "      <td>0.0</td>\n",
       "      <td>7.07</td>\n",
       "      <td>0.0</td>\n",
       "      <td>0.469</td>\n",
       "      <td>6.421</td>\n",
       "      <td>78.9</td>\n",
       "      <td>4.9671</td>\n",
       "      <td>2.0</td>\n",
       "      <td>242.0</td>\n",
       "      <td>17.8</td>\n",
       "      <td>9.14</td>\n",
       "      <td>21.6</td>\n",
       "    </tr>\n",
       "    <tr>\n",
       "      <th>2</th>\n",
       "      <td>0.02729</td>\n",
       "      <td>0.0</td>\n",
       "      <td>7.07</td>\n",
       "      <td>0.0</td>\n",
       "      <td>0.469</td>\n",
       "      <td>7.185</td>\n",
       "      <td>61.1</td>\n",
       "      <td>4.9671</td>\n",
       "      <td>2.0</td>\n",
       "      <td>242.0</td>\n",
       "      <td>17.8</td>\n",
       "      <td>4.03</td>\n",
       "      <td>34.7</td>\n",
       "    </tr>\n",
       "    <tr>\n",
       "      <th>3</th>\n",
       "      <td>0.03237</td>\n",
       "      <td>0.0</td>\n",
       "      <td>2.18</td>\n",
       "      <td>0.0</td>\n",
       "      <td>0.458</td>\n",
       "      <td>6.998</td>\n",
       "      <td>45.8</td>\n",
       "      <td>6.0622</td>\n",
       "      <td>3.0</td>\n",
       "      <td>222.0</td>\n",
       "      <td>18.7</td>\n",
       "      <td>2.94</td>\n",
       "      <td>33.4</td>\n",
       "    </tr>\n",
       "    <tr>\n",
       "      <th>4</th>\n",
       "      <td>0.06905</td>\n",
       "      <td>0.0</td>\n",
       "      <td>2.18</td>\n",
       "      <td>0.0</td>\n",
       "      <td>0.458</td>\n",
       "      <td>7.147</td>\n",
       "      <td>54.2</td>\n",
       "      <td>6.0622</td>\n",
       "      <td>3.0</td>\n",
       "      <td>222.0</td>\n",
       "      <td>18.7</td>\n",
       "      <td>5.33</td>\n",
       "      <td>36.2</td>\n",
       "    </tr>\n",
       "  </tbody>\n",
       "</table>\n",
       "</div>"
      ],
      "text/plain": [
       "   crime rate  residential land zone  business acres  Charles River  \\\n",
       "0     0.00632                   18.0            2.31            0.0   \n",
       "1     0.02731                    0.0            7.07            0.0   \n",
       "2     0.02729                    0.0            7.07            0.0   \n",
       "3     0.03237                    0.0            2.18            0.0   \n",
       "4     0.06905                    0.0            2.18            0.0   \n",
       "\n",
       "   nitric oxides  number of rooms   age  distances to employment centres  \\\n",
       "0          0.538            6.575  65.2                           4.0900   \n",
       "1          0.469            6.421  78.9                           4.9671   \n",
       "2          0.469            7.185  61.1                           4.9671   \n",
       "3          0.458            6.998  45.8                           6.0622   \n",
       "4          0.458            7.147  54.2                           6.0622   \n",
       "\n",
       "   accessibility to highways  property-tax  pupil-teacher ratio  \\\n",
       "0                        1.0         296.0                 15.3   \n",
       "1                        2.0         242.0                 17.8   \n",
       "2                        2.0         242.0                 17.8   \n",
       "3                        3.0         222.0                 18.7   \n",
       "4                        3.0         222.0                 18.7   \n",
       "\n",
       "   lower income levels  Median Home Value  \n",
       "0                 4.98               24.0  \n",
       "1                 9.14               21.6  \n",
       "2                 4.03               34.7  \n",
       "3                 2.94               33.4  \n",
       "4                 5.33               36.2  "
      ]
     },
     "execution_count": 4,
     "metadata": {},
     "output_type": "execute_result"
    }
   ],
   "source": [
    "boston_df.head()"
   ]
  },
  {
   "cell_type": "code",
   "execution_count": 6,
   "metadata": {},
   "outputs": [],
   "source": [
    "X = boston_df.drop('Median Home Value', axis = 1)\n",
    "Y = boston_df['Median Home Value']"
   ]
  },
  {
   "cell_type": "markdown",
   "metadata": {},
   "source": [
    "### Apply variance filter\n",
    "* When a feature doesn’t vary much within itself, it generally has very little predictive power."
   ]
  },
  {
   "cell_type": "code",
   "execution_count": 13,
   "metadata": {},
   "outputs": [
    {
     "data": {
      "text/plain": [
       "crime rate                            73.986578\n",
       "residential land zone                543.936814\n",
       "business acres                        47.064442\n",
       "Charles River                          0.064513\n",
       "nitric oxides                          0.013428\n",
       "number of rooms                        0.493671\n",
       "age                                  792.358399\n",
       "distances to employment centres        4.434015\n",
       "accessibility to highways             75.816366\n",
       "property-tax                       28404.759488\n",
       "pupil-teacher ratio                    4.686989\n",
       "lower income levels                   50.994760\n",
       "dtype: float64"
      ]
     },
     "execution_count": 13,
     "metadata": {},
     "output_type": "execute_result"
    }
   ],
   "source": [
    "X.var(axis = 0)"
   ]
  },
  {
   "cell_type": "code",
   "execution_count": 20,
   "metadata": {},
   "outputs": [
    {
     "data": {
      "text/plain": [
       "crime rate                          0.934689\n",
       "residential land zone               5.439368\n",
       "business acres                      6.324179\n",
       "Charles River                       6.451297\n",
       "nitric oxides                       5.684955\n",
       "number of rooms                     1.812437\n",
       "age                                 8.403945\n",
       "distances to employment centres     3.666542\n",
       "accessibility to highways          14.332016\n",
       "property-tax                       10.344953\n",
       "pupil-teacher ratio                 5.304424\n",
       "lower income levels                 3.882837\n",
       "dtype: float64"
      ]
     },
     "execution_count": 20,
     "metadata": {},
     "output_type": "execute_result"
    }
   ],
   "source": [
    "X_scaled = pd.DataFrame(minmax_scale(X, feature_range=(0, 10)), columns=X.columns)\n",
    "\n",
    "X_scaled.var(axis = 0)"
   ]
  },
  {
   "cell_type": "code",
   "execution_count": 21,
   "metadata": {},
   "outputs": [
    {
     "data": {
      "text/html": [
       "<div>\n",
       "<style scoped>\n",
       "    .dataframe tbody tr th:only-of-type {\n",
       "        vertical-align: middle;\n",
       "    }\n",
       "\n",
       "    .dataframe tbody tr th {\n",
       "        vertical-align: top;\n",
       "    }\n",
       "\n",
       "    .dataframe thead th {\n",
       "        text-align: right;\n",
       "    }\n",
       "</style>\n",
       "<table border=\"1\" class=\"dataframe\">\n",
       "  <thead>\n",
       "    <tr style=\"text-align: right;\">\n",
       "      <th></th>\n",
       "      <th>crime rate</th>\n",
       "      <th>residential land zone</th>\n",
       "      <th>business acres</th>\n",
       "      <th>Charles River</th>\n",
       "      <th>nitric oxides</th>\n",
       "      <th>number of rooms</th>\n",
       "      <th>age</th>\n",
       "      <th>distances to employment centres</th>\n",
       "      <th>accessibility to highways</th>\n",
       "      <th>property-tax</th>\n",
       "      <th>pupil-teacher ratio</th>\n",
       "      <th>lower income levels</th>\n",
       "    </tr>\n",
       "  </thead>\n",
       "  <tbody>\n",
       "    <tr>\n",
       "      <th>count</th>\n",
       "      <td>506.000000</td>\n",
       "      <td>506.000000</td>\n",
       "      <td>506.000000</td>\n",
       "      <td>506.00000</td>\n",
       "      <td>506.000000</td>\n",
       "      <td>506.000000</td>\n",
       "      <td>506.000000</td>\n",
       "      <td>506.000000</td>\n",
       "      <td>506.000000</td>\n",
       "      <td>506.000000</td>\n",
       "      <td>506.000000</td>\n",
       "      <td>506.000000</td>\n",
       "    </tr>\n",
       "    <tr>\n",
       "      <th>mean</th>\n",
       "      <td>0.405441</td>\n",
       "      <td>1.136364</td>\n",
       "      <td>3.913775</td>\n",
       "      <td>0.69170</td>\n",
       "      <td>3.491668</td>\n",
       "      <td>5.218690</td>\n",
       "      <td>6.763636</td>\n",
       "      <td>2.423813</td>\n",
       "      <td>3.717134</td>\n",
       "      <td>4.222083</td>\n",
       "      <td>6.229291</td>\n",
       "      <td>3.014090</td>\n",
       "    </tr>\n",
       "    <tr>\n",
       "      <th>std</th>\n",
       "      <td>0.966793</td>\n",
       "      <td>2.332245</td>\n",
       "      <td>2.514792</td>\n",
       "      <td>2.53994</td>\n",
       "      <td>2.384314</td>\n",
       "      <td>1.346268</td>\n",
       "      <td>2.898956</td>\n",
       "      <td>1.914822</td>\n",
       "      <td>3.785765</td>\n",
       "      <td>3.216357</td>\n",
       "      <td>2.303134</td>\n",
       "      <td>1.970492</td>\n",
       "    </tr>\n",
       "    <tr>\n",
       "      <th>min</th>\n",
       "      <td>0.000000</td>\n",
       "      <td>0.000000</td>\n",
       "      <td>0.000000</td>\n",
       "      <td>0.00000</td>\n",
       "      <td>0.000000</td>\n",
       "      <td>0.000000</td>\n",
       "      <td>0.000000</td>\n",
       "      <td>0.000000</td>\n",
       "      <td>0.000000</td>\n",
       "      <td>0.000000</td>\n",
       "      <td>0.000000</td>\n",
       "      <td>0.000000</td>\n",
       "    </tr>\n",
       "    <tr>\n",
       "      <th>25%</th>\n",
       "      <td>0.008511</td>\n",
       "      <td>0.000000</td>\n",
       "      <td>1.733871</td>\n",
       "      <td>0.00000</td>\n",
       "      <td>1.316872</td>\n",
       "      <td>4.453918</td>\n",
       "      <td>4.338311</td>\n",
       "      <td>0.882590</td>\n",
       "      <td>1.304348</td>\n",
       "      <td>1.755725</td>\n",
       "      <td>5.106383</td>\n",
       "      <td>1.440397</td>\n",
       "    </tr>\n",
       "    <tr>\n",
       "      <th>50%</th>\n",
       "      <td>0.028121</td>\n",
       "      <td>0.000000</td>\n",
       "      <td>3.383431</td>\n",
       "      <td>0.00000</td>\n",
       "      <td>3.148148</td>\n",
       "      <td>5.072811</td>\n",
       "      <td>7.682801</td>\n",
       "      <td>1.889487</td>\n",
       "      <td>1.739130</td>\n",
       "      <td>2.729008</td>\n",
       "      <td>6.861702</td>\n",
       "      <td>2.657285</td>\n",
       "    </tr>\n",
       "    <tr>\n",
       "      <th>75%</th>\n",
       "      <td>0.412585</td>\n",
       "      <td>1.250000</td>\n",
       "      <td>6.466276</td>\n",
       "      <td>0.00000</td>\n",
       "      <td>4.917695</td>\n",
       "      <td>5.867982</td>\n",
       "      <td>9.389804</td>\n",
       "      <td>3.690881</td>\n",
       "      <td>10.000000</td>\n",
       "      <td>9.141221</td>\n",
       "      <td>8.085106</td>\n",
       "      <td>4.201159</td>\n",
       "    </tr>\n",
       "    <tr>\n",
       "      <th>max</th>\n",
       "      <td>10.000000</td>\n",
       "      <td>10.000000</td>\n",
       "      <td>10.000000</td>\n",
       "      <td>10.00000</td>\n",
       "      <td>10.000000</td>\n",
       "      <td>10.000000</td>\n",
       "      <td>10.000000</td>\n",
       "      <td>10.000000</td>\n",
       "      <td>10.000000</td>\n",
       "      <td>10.000000</td>\n",
       "      <td>10.000000</td>\n",
       "      <td>10.000000</td>\n",
       "    </tr>\n",
       "  </tbody>\n",
       "</table>\n",
       "</div>"
      ],
      "text/plain": [
       "       crime rate  residential land zone  business acres  Charles River  \\\n",
       "count  506.000000             506.000000      506.000000      506.00000   \n",
       "mean     0.405441               1.136364        3.913775        0.69170   \n",
       "std      0.966793               2.332245        2.514792        2.53994   \n",
       "min      0.000000               0.000000        0.000000        0.00000   \n",
       "25%      0.008511               0.000000        1.733871        0.00000   \n",
       "50%      0.028121               0.000000        3.383431        0.00000   \n",
       "75%      0.412585               1.250000        6.466276        0.00000   \n",
       "max     10.000000              10.000000       10.000000       10.00000   \n",
       "\n",
       "       nitric oxides  number of rooms         age  \\\n",
       "count     506.000000       506.000000  506.000000   \n",
       "mean        3.491668         5.218690    6.763636   \n",
       "std         2.384314         1.346268    2.898956   \n",
       "min         0.000000         0.000000    0.000000   \n",
       "25%         1.316872         4.453918    4.338311   \n",
       "50%         3.148148         5.072811    7.682801   \n",
       "75%         4.917695         5.867982    9.389804   \n",
       "max        10.000000        10.000000   10.000000   \n",
       "\n",
       "       distances to employment centres  accessibility to highways  \\\n",
       "count                       506.000000                 506.000000   \n",
       "mean                          2.423813                   3.717134   \n",
       "std                           1.914822                   3.785765   \n",
       "min                           0.000000                   0.000000   \n",
       "25%                           0.882590                   1.304348   \n",
       "50%                           1.889487                   1.739130   \n",
       "75%                           3.690881                  10.000000   \n",
       "max                          10.000000                  10.000000   \n",
       "\n",
       "       property-tax  pupil-teacher ratio  lower income levels  \n",
       "count    506.000000           506.000000           506.000000  \n",
       "mean       4.222083             6.229291             3.014090  \n",
       "std        3.216357             2.303134             1.970492  \n",
       "min        0.000000             0.000000             0.000000  \n",
       "25%        1.755725             5.106383             1.440397  \n",
       "50%        2.729008             6.861702             2.657285  \n",
       "75%        9.141221             8.085106             4.201159  \n",
       "max       10.000000            10.000000            10.000000  "
      ]
     },
     "execution_count": 21,
     "metadata": {},
     "output_type": "execute_result"
    }
   ],
   "source": [
    "X_scaled.describe()"
   ]
  },
  {
   "cell_type": "code",
   "execution_count": 41,
   "metadata": {},
   "outputs": [],
   "source": [
    "from sklearn.feature_selection import VarianceThreshold\n",
    "\n",
    "select_features = VarianceThreshold(threshold = 5.0)"
   ]
  },
  {
   "cell_type": "code",
   "execution_count": 42,
   "metadata": {},
   "outputs": [],
   "source": [
    "X_new = select_features.fit_transform(X_scaled)"
   ]
  },
  {
   "cell_type": "code",
   "execution_count": 43,
   "metadata": {},
   "outputs": [
    {
     "data": {
      "text/plain": [
       "(506, 8)"
      ]
     },
     "execution_count": 43,
     "metadata": {},
     "output_type": "execute_result"
    }
   ],
   "source": [
    "X_new.shape"
   ]
  },
  {
   "cell_type": "code",
   "execution_count": 44,
   "metadata": {},
   "outputs": [
    {
     "data": {
      "text/html": [
       "<div>\n",
       "<style scoped>\n",
       "    .dataframe tbody tr th:only-of-type {\n",
       "        vertical-align: middle;\n",
       "    }\n",
       "\n",
       "    .dataframe tbody tr th {\n",
       "        vertical-align: top;\n",
       "    }\n",
       "\n",
       "    .dataframe thead th {\n",
       "        text-align: right;\n",
       "    }\n",
       "</style>\n",
       "<table border=\"1\" class=\"dataframe\">\n",
       "  <thead>\n",
       "    <tr style=\"text-align: right;\">\n",
       "      <th></th>\n",
       "      <th>feature names</th>\n",
       "      <th>variances</th>\n",
       "    </tr>\n",
       "  </thead>\n",
       "  <tbody>\n",
       "    <tr>\n",
       "      <th>0</th>\n",
       "      <td>crime rate</td>\n",
       "      <td>0.932841</td>\n",
       "    </tr>\n",
       "    <tr>\n",
       "      <th>1</th>\n",
       "      <td>residential land zone</td>\n",
       "      <td>5.428618</td>\n",
       "    </tr>\n",
       "    <tr>\n",
       "      <th>2</th>\n",
       "      <td>business acres</td>\n",
       "      <td>6.311681</td>\n",
       "    </tr>\n",
       "    <tr>\n",
       "      <th>3</th>\n",
       "      <td>Charles River</td>\n",
       "      <td>6.438548</td>\n",
       "    </tr>\n",
       "    <tr>\n",
       "      <th>4</th>\n",
       "      <td>nitric oxides</td>\n",
       "      <td>5.673720</td>\n",
       "    </tr>\n",
       "    <tr>\n",
       "      <th>5</th>\n",
       "      <td>number of rooms</td>\n",
       "      <td>1.808855</td>\n",
       "    </tr>\n",
       "    <tr>\n",
       "      <th>6</th>\n",
       "      <td>age</td>\n",
       "      <td>8.387336</td>\n",
       "    </tr>\n",
       "    <tr>\n",
       "      <th>7</th>\n",
       "      <td>distances to employment centres</td>\n",
       "      <td>3.659295</td>\n",
       "    </tr>\n",
       "    <tr>\n",
       "      <th>8</th>\n",
       "      <td>accessibility to highways</td>\n",
       "      <td>14.303692</td>\n",
       "    </tr>\n",
       "    <tr>\n",
       "      <th>9</th>\n",
       "      <td>property-tax</td>\n",
       "      <td>10.324509</td>\n",
       "    </tr>\n",
       "    <tr>\n",
       "      <th>10</th>\n",
       "      <td>pupil-teacher ratio</td>\n",
       "      <td>5.293941</td>\n",
       "    </tr>\n",
       "    <tr>\n",
       "      <th>11</th>\n",
       "      <td>lower income levels</td>\n",
       "      <td>3.875164</td>\n",
       "    </tr>\n",
       "  </tbody>\n",
       "</table>\n",
       "</div>"
      ],
      "text/plain": [
       "                      feature names  variances\n",
       "0                        crime rate   0.932841\n",
       "1             residential land zone   5.428618\n",
       "2                    business acres   6.311681\n",
       "3                     Charles River   6.438548\n",
       "4                     nitric oxides   5.673720\n",
       "5                   number of rooms   1.808855\n",
       "6                               age   8.387336\n",
       "7   distances to employment centres   3.659295\n",
       "8         accessibility to highways  14.303692\n",
       "9                      property-tax  10.324509\n",
       "10              pupil-teacher ratio   5.293941\n",
       "11              lower income levels   3.875164"
      ]
     },
     "execution_count": 44,
     "metadata": {},
     "output_type": "execute_result"
    }
   ],
   "source": [
    "var_df = pd.DataFrame({'feature names' : list(X),\n",
    "                       'variances' : select_features.variances_\n",
    "                      })\n",
    "\n",
    "var_df"
   ]
  },
  {
   "cell_type": "code",
   "execution_count": 45,
   "metadata": {},
   "outputs": [
    {
     "data": {
      "text/html": [
       "<div>\n",
       "<style scoped>\n",
       "    .dataframe tbody tr th:only-of-type {\n",
       "        vertical-align: middle;\n",
       "    }\n",
       "\n",
       "    .dataframe tbody tr th {\n",
       "        vertical-align: top;\n",
       "    }\n",
       "\n",
       "    .dataframe thead th {\n",
       "        text-align: right;\n",
       "    }\n",
       "</style>\n",
       "<table border=\"1\" class=\"dataframe\">\n",
       "  <thead>\n",
       "    <tr style=\"text-align: right;\">\n",
       "      <th></th>\n",
       "      <th>0</th>\n",
       "      <th>1</th>\n",
       "      <th>2</th>\n",
       "      <th>3</th>\n",
       "      <th>4</th>\n",
       "      <th>5</th>\n",
       "      <th>6</th>\n",
       "      <th>7</th>\n",
       "    </tr>\n",
       "  </thead>\n",
       "  <tbody>\n",
       "    <tr>\n",
       "      <th>0</th>\n",
       "      <td>1.8</td>\n",
       "      <td>0.678152</td>\n",
       "      <td>0.0</td>\n",
       "      <td>3.148148</td>\n",
       "      <td>6.416066</td>\n",
       "      <td>0.000000</td>\n",
       "      <td>2.080153</td>\n",
       "      <td>2.872340</td>\n",
       "    </tr>\n",
       "    <tr>\n",
       "      <th>1</th>\n",
       "      <td>0.0</td>\n",
       "      <td>2.423021</td>\n",
       "      <td>0.0</td>\n",
       "      <td>1.728395</td>\n",
       "      <td>7.826982</td>\n",
       "      <td>0.434783</td>\n",
       "      <td>1.049618</td>\n",
       "      <td>5.531915</td>\n",
       "    </tr>\n",
       "    <tr>\n",
       "      <th>2</th>\n",
       "      <td>0.0</td>\n",
       "      <td>2.423021</td>\n",
       "      <td>0.0</td>\n",
       "      <td>1.728395</td>\n",
       "      <td>5.993821</td>\n",
       "      <td>0.434783</td>\n",
       "      <td>1.049618</td>\n",
       "      <td>5.531915</td>\n",
       "    </tr>\n",
       "    <tr>\n",
       "      <th>3</th>\n",
       "      <td>0.0</td>\n",
       "      <td>0.630499</td>\n",
       "      <td>0.0</td>\n",
       "      <td>1.502058</td>\n",
       "      <td>4.418126</td>\n",
       "      <td>0.869565</td>\n",
       "      <td>0.667939</td>\n",
       "      <td>6.489362</td>\n",
       "    </tr>\n",
       "    <tr>\n",
       "      <th>4</th>\n",
       "      <td>0.0</td>\n",
       "      <td>0.630499</td>\n",
       "      <td>0.0</td>\n",
       "      <td>1.502058</td>\n",
       "      <td>5.283213</td>\n",
       "      <td>0.869565</td>\n",
       "      <td>0.667939</td>\n",
       "      <td>6.489362</td>\n",
       "    </tr>\n",
       "  </tbody>\n",
       "</table>\n",
       "</div>"
      ],
      "text/plain": [
       "     0         1    2         3         4         5         6         7\n",
       "0  1.8  0.678152  0.0  3.148148  6.416066  0.000000  2.080153  2.872340\n",
       "1  0.0  2.423021  0.0  1.728395  7.826982  0.434783  1.049618  5.531915\n",
       "2  0.0  2.423021  0.0  1.728395  5.993821  0.434783  1.049618  5.531915\n",
       "3  0.0  0.630499  0.0  1.502058  4.418126  0.869565  0.667939  6.489362\n",
       "4  0.0  0.630499  0.0  1.502058  5.283213  0.869565  0.667939  6.489362"
      ]
     },
     "execution_count": 45,
     "metadata": {},
     "output_type": "execute_result"
    }
   ],
   "source": [
    "X_new = pd.DataFrame(X_new)\n",
    "\n",
    "X_new.head()"
   ]
  },
  {
   "cell_type": "code",
   "execution_count": 46,
   "metadata": {},
   "outputs": [
    {
     "data": {
      "text/plain": [
       "['residential land zone',\n",
       " 'business acres',\n",
       " 'Charles River',\n",
       " 'nitric oxides',\n",
       " 'age',\n",
       " 'accessibility to highways',\n",
       " 'property-tax',\n",
       " 'pupil-teacher ratio']"
      ]
     },
     "execution_count": 46,
     "metadata": {},
     "output_type": "execute_result"
    }
   ],
   "source": [
    "selected_features = []\n",
    "\n",
    "for i in range(len(X_new.columns)):\n",
    "    for j in range(len(X_scaled.columns)):\n",
    "\n",
    "        if(X_new.iloc[:,i].equals( X_scaled.iloc[:,j])):\n",
    "            selected_features.append(X_scaled.columns[j])\n",
    "            \n",
    "selected_features"
   ]
  },
  {
   "cell_type": "code",
   "execution_count": 47,
   "metadata": {},
   "outputs": [
    {
     "data": {
      "text/plain": [
       "{'crime rate',\n",
       " 'distances to employment centres',\n",
       " 'lower income levels',\n",
       " 'number of rooms'}"
      ]
     },
     "execution_count": 47,
     "metadata": {},
     "output_type": "execute_result"
    }
   ],
   "source": [
    "rejected_features = set(list(X)) - set(selected_features)\n",
    "\n",
    "rejected_features"
   ]
  },
  {
   "cell_type": "code",
   "execution_count": 48,
   "metadata": {},
   "outputs": [],
   "source": [
    "x_train, x_test, y_train, y_test = train_test_split(X_new, Y, test_size = 0.2)"
   ]
  },
  {
   "cell_type": "code",
   "execution_count": 49,
   "metadata": {},
   "outputs": [
    {
     "data": {
      "text/plain": [
       "((404, 8), (404,))"
      ]
     },
     "execution_count": 49,
     "metadata": {},
     "output_type": "execute_result"
    }
   ],
   "source": [
    "x_train.shape, y_train.shape"
   ]
  },
  {
   "cell_type": "code",
   "execution_count": 50,
   "metadata": {
    "scrolled": true
   },
   "outputs": [
    {
     "data": {
      "text/plain": [
       "((102, 8), (102,))"
      ]
     },
     "execution_count": 50,
     "metadata": {},
     "output_type": "execute_result"
    }
   ],
   "source": [
    "x_test.shape, y_test.shape"
   ]
  },
  {
   "cell_type": "markdown",
   "metadata": {},
   "source": [
    "### Regression in Statsmodel\n",
    "\n",
    "https://www.statsmodels.org/stable/regression.html"
   ]
  },
  {
   "cell_type": "code",
   "execution_count": 51,
   "metadata": {},
   "outputs": [],
   "source": [
    "x_train_with_const = sm.add_constant(x_train)\n",
    "\n",
    "model = sm.OLS(y_train, x_train_with_const)"
   ]
  },
  {
   "cell_type": "code",
   "execution_count": 52,
   "metadata": {},
   "outputs": [],
   "source": [
    "result = model.fit()"
   ]
  },
  {
   "cell_type": "code",
   "execution_count": 53,
   "metadata": {
    "scrolled": true
   },
   "outputs": [
    {
     "name": "stdout",
     "output_type": "stream",
     "text": [
      "                            OLS Regression Results                            \n",
      "==============================================================================\n",
      "Dep. Variable:      Median Home Value   R-squared:                       0.411\n",
      "Model:                            OLS   Adj. R-squared:                  0.399\n",
      "Method:                 Least Squares   F-statistic:                     34.48\n",
      "Date:                Fri, 15 Mar 2019   Prob (F-statistic):           3.47e-41\n",
      "Time:                        12:57:41   Log-Likelihood:                -1351.8\n",
      "No. Observations:                 404   AIC:                             2722.\n",
      "Df Residuals:                     395   BIC:                             2758.\n",
      "Df Model:                           8                                         \n",
      "Covariance Type:            nonrobust                                         \n",
      "==============================================================================\n",
      "                 coef    std err          t      P>|t|      [0.025      0.975]\n",
      "------------------------------------------------------------------------------\n",
      "const         37.5147      1.695     22.139      0.000      34.183      40.846\n",
      "0              0.1481      0.203      0.728      0.467      -0.252       0.548\n",
      "1             -0.2230      0.265     -0.842      0.400      -0.744       0.298\n",
      "2              0.4421      0.140      3.164      0.002       0.167       0.717\n",
      "3             -0.9363      0.294     -3.187      0.002      -1.514      -0.359\n",
      "4             -0.2166      0.189     -1.144      0.254      -0.589       0.156\n",
      "5              0.8600      0.239      3.598      0.000       0.390       1.330\n",
      "6             -1.0355      0.324     -3.194      0.002      -1.673      -0.398\n",
      "7             -1.4278      0.196     -7.295      0.000      -1.813      -1.043\n",
      "==============================================================================\n",
      "Omnibus:                      145.498   Durbin-Watson:                   2.036\n",
      "Prob(Omnibus):                  0.000   Jarque-Bera (JB):              484.583\n",
      "Skew:                           1.644   Prob(JB):                    5.95e-106\n",
      "Kurtosis:                       7.240   Cond. No.                         66.0\n",
      "==============================================================================\n",
      "\n",
      "Warnings:\n",
      "[1] Standard Errors assume that the covariance matrix of the errors is correctly specified.\n"
     ]
    }
   ],
   "source": [
    "print(result.summary())"
   ]
  },
  {
   "cell_type": "markdown",
   "metadata": {},
   "source": [
    "### Build Linear Regression Model"
   ]
  },
  {
   "cell_type": "code",
   "execution_count": 54,
   "metadata": {},
   "outputs": [],
   "source": [
    "reg_model = LinearRegression().fit(x_train, y_train)"
   ]
  },
  {
   "cell_type": "markdown",
   "metadata": {},
   "source": [
    "### Evaluate Model"
   ]
  },
  {
   "cell_type": "code",
   "execution_count": 55,
   "metadata": {},
   "outputs": [
    {
     "name": "stdout",
     "output_type": "stream",
     "text": [
      "Training score:  0.4112109709185371\n"
     ]
    }
   ],
   "source": [
    "print('Training score: ', reg_model.score(x_train, y_train))"
   ]
  },
  {
   "cell_type": "code",
   "execution_count": 56,
   "metadata": {},
   "outputs": [],
   "source": [
    "y_pred = reg_model.predict(x_test)"
   ]
  },
  {
   "cell_type": "code",
   "execution_count": 57,
   "metadata": {},
   "outputs": [
    {
     "name": "stdout",
     "output_type": "stream",
     "text": [
      "Testing score:  0.4128041487774866\n"
     ]
    }
   ],
   "source": [
    "print('Testing score: ', r2_score(y_test, y_pred))"
   ]
  },
  {
   "cell_type": "code",
   "execution_count": 58,
   "metadata": {
    "scrolled": true
   },
   "outputs": [
    {
     "data": {
      "image/png": "[encoded data removed]",
      "text/plain": [
       "<Figure size 864x720 with 1 Axes>"
      ]
     },
     "metadata": {
      "needs_background": "light"
     },
     "output_type": "display_data"
    }
   ],
   "source": [
    "plt.figure(figsize = (12, 10))\n",
    "\n",
    "plt.scatter(y_test.values, y_pred, s=250)\n",
    "\n",
    "plt.show()"
   ]
  },
  {
   "cell_type": "code",
   "execution_count": null,
   "metadata": {},
   "outputs": [],
   "source": []
  }
 ],
 "metadata": {
  "kernelspec": {
   "display_name": "Python 3",
   "language": "python",
   "name": "python3"
  },
  "language_info": {
   "codemirror_mode": {
    "name": "ipython",
    "version": 3
   },
   "file_extension": ".py",
   "mimetype": "text/x-python",
   "name": "python",
   "nbconvert_exporter": "python",
   "pygments_lexer": "ipython3",
   "version": "3.7.1"
  }
 },
 "nbformat": 4,
 "nbformat_minor": 2
}
